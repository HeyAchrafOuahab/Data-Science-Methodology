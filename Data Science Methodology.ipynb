{
 "cells": [
  {
   "cell_type": "markdown",
   "id": "69182b60-aff6-4392-a8e2-be312ca17c74",
   "metadata": {},
   "source": [
    "# Data Science Methodology"
   ]
  },
  {
   "cell_type": "markdown",
   "id": "a5f3ea41-fc46-4b09-a550-23578529475b",
   "metadata": {},
   "source": [
    "<img src=\"image.png\" width=\"600\" height=\"100\">\n"
   ]
  },
  {
   "cell_type": "markdown",
   "id": "88f471e8-41ce-4847-8f18-df231c915bc2",
   "metadata": {},
   "source": [
    "The **Data Science Methodology** aims to answer the following 10 questions in this prescribed sequence: \n",
    "\n",
    "**From problem to approach:** \n",
    "\n",
    "1. What is the problem that you are trying to solve?\n",
    "2. How can you use data to answer the question?\n",
    "\n",
    "**Working with the data:**\n",
    "\n",
    "3. What data do you need to answer the question?  \n",
    "4. Where is the data coming from (identify all sources) and how will you get it?  \n",
    "5. Is the data that you collected representative of the problem to be solved?  \n",
    "6. What additional work is required to manipulate and work with the data?  \n",
    "\n",
    "**Deriving the answer:**\n",
    "\n",
    "7. In what way can the data be visualized to get to the answer that is required?  \n",
    "8. Does the model used really answer the inital question or does it need to be adjusted?  \n",
    "9. Can you put the model into practice?  \n",
    "10. Can you get constructive feedback into answering the question?  \n"
   ]
  }
 ],
 "metadata": {
  "kernelspec": {
   "display_name": "anaconda-panel-2023.05-py310",
   "language": "python",
   "name": "conda-env-anaconda-panel-2023.05-py310-py"
  },
  "language_info": {
   "codemirror_mode": {
    "name": "ipython",
    "version": 3
   },
   "file_extension": ".py",
   "mimetype": "text/x-python",
   "name": "python",
   "nbconvert_exporter": "python",
   "pygments_lexer": "ipython3",
   "version": "3.11.5"
  }
 },
 "nbformat": 4,
 "nbformat_minor": 5
}
